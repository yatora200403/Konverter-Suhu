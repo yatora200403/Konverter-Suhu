{
  "nbformat": 4,
  "nbformat_minor": 0,
  "metadata": {
    "colab": {
      "provenance": [],
      "authorship_tag": "ABX9TyO2x930pjyIUq139FuvPCOt",
      "include_colab_link": true
    },
    "kernelspec": {
      "name": "python3",
      "display_name": "Python 3"
    },
    "language_info": {
      "name": "python"
    }
  },
  "cells": [
    {
      "cell_type": "markdown",
      "metadata": {
        "id": "view-in-github",
        "colab_type": "text"
      },
      "source": [
        "<a href=\"https://colab.research.google.com/github/yatora200403/Konverter-Suhu/blob/main/crop_yield_with_fuzzy.ipynb\" target=\"_parent\"><img src=\"https://colab.research.google.com/assets/colab-badge.svg\" alt=\"Open In Colab\"/></a>"
      ]
    },
    {
      "cell_type": "code",
      "source": [
        "import numpy as np\n",
        "import pandas as pd\n",
        "import json"
      ],
      "metadata": {
        "id": "P0N5JX0IX20z"
      },
      "execution_count": 11,
      "outputs": []
    },
    {
      "cell_type": "code",
      "execution_count": 12,
      "metadata": {
        "id": "NHgAt0seW-Hp"
      },
      "outputs": [],
      "source": [
        "# fungsi logika fuzzy untuk prediksi hasil panen\n",
        "def fuzzy_yield_prediction(land_area, rainfall, disease_level, temperature, planting_distance):\n",
        "    #fuzzy untuk curah hujan\n",
        "    if rainfall == \"sangat rendah\":\n",
        "        rainfall_factor = 0.3\n",
        "    elif rainfall == \"rendah\":\n",
        "        rainfall_factor = 0.7\n",
        "    elif rainfall == \"normal\":\n",
        "        rainfall_factor = 1.0\n",
        "    elif rainfall == \"tinggi\":\n",
        "        rainfall_factor = 0.8\n",
        "    else:\n",
        "        rainfall_factor = 0.4\n",
        "\n",
        "    #fuzzy untuk tingkat penyakit\n",
        "    if disease_level == \"sangat rendah\":\n",
        "        disease_factor = 1.0\n",
        "    elif disease_level == \"rendah\":\n",
        "        disease_factor = 0.8\n",
        "    elif disease_level == \"normal\":\n",
        "        disease_factor = 0.6\n",
        "    elif disease_level == \"tinggi\":\n",
        "        disease_factor = 0.2\n",
        "    else:\n",
        "        disease_factor = 0.05\n",
        "\n",
        "    #efek jarak tanam terhadap hasil panen\n",
        "    if planting_distance == \"20cmx20cm\":\n",
        "        planting_factor = 1.2\n",
        "    elif planting_distance == \"25cmx25cm\":\n",
        "        planting_factor = 1.0\n",
        "    elif planting_distance == \"30cmx30cm\":\n",
        "        planting_factor = 0.9\n",
        "\n",
        "\n",
        "    #hasil panen dalam kg berdasarkan faktor fuzzy\n",
        "    base_yield_per_m2 = 8 * 1000 / 10000  # 8 ton per hektar = 8000 kg per 10,000 m2\n",
        "    yield_prediction = (\n",
        "        land_area * base_yield_per_m2 * rainfall_factor * disease_factor * planting_factor * (30 - abs(temperature - 25)) / 30\n",
        "    )\n",
        "\n",
        "    return round(yield_prediction, 2)"
      ]
    },
    {
      "cell_type": "markdown",
      "source": [
        "- GKP (Gabah Kering Panen) = 100% dari hasil panen di sawah\n",
        "- GKG (Gabah Kering Giling) = 70% dari GKP\n",
        "- Beras = 65% dari GKG"
      ],
      "metadata": {
        "id": "tTQXWfVhkCjC"
      }
    },
    {
      "cell_type": "code",
      "source": [
        "#fungsi untuk menghitung jumlah bibit ideal\n",
        "def seed_amount(land_area, planting_distance):\n",
        "    if planting_distance == \"20cmx20cm\":\n",
        "        seeds_per_m2 = 25\n",
        "    elif planting_distance == \"25cmx25cm\":\n",
        "        seeds_per_m2 = 16\n",
        "    elif planting_distance == \"30cmx30cm\":\n",
        "        seeds_per_m2 = 11\n",
        "\n",
        "    base_seed_per_m2 = seeds_per_m2 / 1000\n",
        "    variation = np.random.uniform(0.9, 1.1)\n",
        "    total_seed = land_area * base_seed_per_m2 * variation\n",
        "    return round(total_seed, 2)"
      ],
      "metadata": {
        "id": "-NSL6fDDdMH7"
      },
      "execution_count": null,
      "outputs": []
    },
    {
      "cell_type": "code",
      "source": [
        "# data untuk curah hujan, tingkat penyakit, dan jarak tanam\n",
        "rainfall_levels = [\"sangat rendah\", \"rendah\", \"normal\", \"tinggi\", \"sangat tinggi\"]\n",
        "disease_levels = [\"sangat rendah\", \"rendah\", \"normal\", \"tinggi\", \"sangat tinggi\"]\n",
        "planting_distances = [\"20cmx20cm\", \"25cmx25cm\", \"30cmx30cm\"]\n",
        "\n",
        "data = []\n",
        "\n",
        "land_area = int(input(\"luas lahan : \"))  #luas lahan\n",
        "rainfall = str(input(\"curah hujan : \"))  #curah hujan\n",
        "rainfall = rainfall.lower()\n",
        "disease_level = str(input(\"tingkat penyakit : \"))  #tingkat penyakit\n",
        "disease_level = disease_level.lower()\n",
        "temperature = float(input(\"temperature C: \"))  #suhu rata-rata(C)\n",
        "planting_distance = input(\"jarak tanam : \")  #jarak tanam\n",
        "planting_distance = planting_distance.lower()\n",
        "seed_weight = seed_amount(land_area, planting_distance)  #jumlah bibit padi (kg)\n",
        "\n",
        "gkp = fuzzy_yield_prediction(land_area, rainfall, disease_level, temperature, planting_distance)\n",
        "gkg = round(gkp * 0.7, 2)  #Gabah Kering Giling = 70% dari GKP\n",
        "rice = round(gkg * 0.65, 2)  #Beras = 65% dari GKG\n",
        "\n",
        "data.append([land_area, rainfall, disease_level, temperature, planting_distance, seed_weight, gkp, gkg, rice])\n",
        "\n",
        "columns = [\n",
        "    \"Luas Lahan\", #m2\n",
        "    \"Curah Hujan\",\n",
        "    \"Tingkat Penyakit\",\n",
        "    \"Suhu\", #C\n",
        "    \"Jarak Tanam\", #cm\n",
        "    \"Jumlah Bibit\", #kg\n",
        "    \"GKP\", #kg\n",
        "    \"GKG\", #kg\n",
        "    \"Beras\" #kg\n",
        "]\n",
        "dataset = pd.DataFrame(data, columns=columns)\n",
        "json_response = dataset.to_json(orient=\"records\")\n",
        "print(json_response)\n",
        "\n",
        "# dataset.to_csv(\"crop yield.csv\", index=False)\n",
        "# print(\"Dataset time series berhasil dibuat dan disimpan sebagai 'crop yield.csv'.\")"
      ],
      "metadata": {
        "colab": {
          "base_uri": "https://localhost:8080/"
        },
        "id": "975D62IZYRwL",
        "outputId": "9128289f-6924-4a69-e4ae-ea2d24907a7d"
      },
      "execution_count": 14,
      "outputs": [
        {
          "output_type": "stream",
          "name": "stdout",
          "text": [
            "luas lahan : 1000\n",
            "curah hujan : normal\n",
            "tingkat penyakit : normal\n",
            "temperature C: 21.8\n",
            "jarak tanam : 20cmx20cm\n",
            "[{\"Luas Lahan\":1000,\"Curah Hujan\":\"normal\",\"Tingkat Penyakit\":\"normal\",\"Suhu\":21.8,\"Jarak Tanam\":\"20cmx20cm\",\"Jumlah Bibit\":22.56,\"GKP\":514.56,\"GKG\":360.19,\"Beras\":234.12}]\n"
          ]
        }
      ]
    }
  ]
}